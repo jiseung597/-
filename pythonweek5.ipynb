{
 "cells": [
  {
   "cell_type": "code",
   "execution_count": 1,
   "id": "6ffbde1e-5dae-4ae8-8e47-ae22132b4287",
   "metadata": {},
   "outputs": [
    {
     "data": {
      "text/plain": [
       "'a'"
      ]
     },
     "execution_count": 1,
     "metadata": {},
     "output_type": "execute_result"
    }
   ],
   "source": [
    "p = 'abcdefgh'\n",
    "p[0]"
   ]
  },
  {
   "cell_type": "code",
   "execution_count": 2,
   "id": "a45184c9-0f7a-484c-ac4f-7fb2414e9399",
   "metadata": {},
   "outputs": [
    {
     "data": {
      "text/plain": [
       "'h'"
      ]
     },
     "execution_count": 2,
     "metadata": {},
     "output_type": "execute_result"
    }
   ],
   "source": [
    "p = 'abcdefgh'\n",
    "p[7]\n"
   ]
  },
  {
   "cell_type": "code",
   "execution_count": 3,
   "id": "9671c341-204d-4dc1-9f25-84e092ca31d0",
   "metadata": {},
   "outputs": [
    {
     "name": "stdout",
     "output_type": "stream",
     "text": [
      "h\n",
      "g\n",
      "f\n",
      "e\n",
      "d\n",
      "c\n",
      "b\n",
      "a\n"
     ]
    }
   ],
   "source": [
    "p = 'abcdefgh'\n",
    "for n in range(-1, -len(p)-1, -1) : # -1 ~ -8\n",
    " print(p[n])"
   ]
  },
  {
   "cell_type": "code",
   "execution_count": 4,
   "id": "dc177f93-e478-4be9-a0da-5cca59f22ea8",
   "metadata": {},
   "outputs": [
    {
     "data": {
      "text/plain": [
       "'hgfedcba'"
      ]
     },
     "execution_count": 4,
     "metadata": {},
     "output_type": "execute_result"
    }
   ],
   "source": [
    "p = 'abcdefgh'\n",
    "p[-1::-1]\n"
   ]
  },
  {
   "cell_type": "code",
   "execution_count": 8,
   "id": "678b26f7-bd4e-4a71-8dd3-0c6ceed05705",
   "metadata": {},
   "outputs": [
    {
     "name": "stdout",
     "output_type": "stream",
     "text": [
      "['', '192.168.0.1 - - [21/Jan/2025:10:00:00 +0000] \"GET /index.html HTTP/1.1\" 200 1024', '203.0.113.45 - - [21/Jan/2025:10:01:00 +0000] \"POST /login HTTP/1.1\" 200 2048', '198.51.100.23 - - [21/Jan/2025:10:02:00 +0000] \"GET /dashboard HTTP/1.1\" 403 512', '']\n",
      "192.168.0.1 - - [21/Jan/2025:10:00:00 +0000] \"GET /index.html HTTP/1.1\" 200 1024\n",
      "192.168.0.1\n",
      "203.0.113.45 - - [21/Jan/2025:10:01:00 +0000] \"POST /login HTTP/1.1\" 200 2048\n",
      "203.0.113.45\n",
      "198.51.100.23 - - [21/Jan/2025:10:02:00 +0000] \"GET /dashboard HTTP/1.1\" 403 512\n",
      "198.51.100.23\n",
      "** IPs :  ['192.168.0.1', '203.0.113.45', '198.51.100.23']\n"
     ]
    }
   ],
   "source": [
    "log_data = \"\"\"\n",
    "192.168.0.1 - - [21/Jan/2025:10:00:00 +0000] \"GET /index.html HTTP/1.1\" 200 1024\n",
    "203.0.113.45 - - [21/Jan/2025:10:01:00 +0000] \"POST /login HTTP/1.1\" 200 2048\n",
    "198.51.100.23 - - [21/Jan/2025:10:02:00 +0000] \"GET /dashboard HTTP/1.1\" 403 512\n",
    "\"\"\" \n",
    "\n",
    "# IP들을 저장할 리스트\n",
    "ips = []\n",
    "\n",
    "# 로그 데이터를 줄 단위로 나누기\n",
    "lines = log_data.split('\\n')\n",
    "print(lines)\n",
    "\n",
    "# 각 줄을 하나씩 처리\n",
    "for line in lines:\n",
    "    # 빈 줄을 건너뛰기\n",
    "    if line.strip():\n",
    "        print(line)\n",
    "        print(line.strip().split()[0])  # 첫 번째 요소는 IP 주소\n",
    "        ips.append(line.strip().split()[0])  # IP를 리스트에 추가\n",
    "\n",
    "# 추출된 IP 출력\n",
    "print('** IPs : ', ips)"
   ]
  },
  {
   "cell_type": "code",
   "execution_count": 9,
   "id": "48d6f204-5aa8-4d1f-9afe-32676b5fbe93",
   "metadata": {},
   "outputs": [
    {
     "name": "stdout",
     "output_type": "stream",
     "text": [
      "Welcome to My Website\n"
     ]
    }
   ],
   "source": [
    "# 샘플 HTML 데이터\n",
    "html_data = \"\"\"\n",
    "<html>\n",
    "<head>\n",
    " <title>Welcome to My Website</title>\n",
    "</head>\n",
    "<body>\n",
    " <h1>Hello, World!</h1>\n",
    "</body>\n",
    "</html>\n",
    "\"\"\"\n",
    "# <title> 태그의 시작과 끝 인덱스 찾기\n",
    "start_index = html_data.find(\"<title>\") + len(\"<title>\")\n",
    "end_index = html_data.find(\"</title>\")\n",
    "# 슬라이싱으로 <title> 내용 추출\n",
    "\n",
    "title_content = html_data[start_index:end_index]\n",
    "\n",
    "print(title_content)\n",
    "# 코딩하시오\n",
    "# 결과 출력\n",
    "# 코딩하시오\n"
   ]
  },
  {
   "cell_type": "code",
   "execution_count": 21,
   "id": "4d2eed14-ea06-4dbc-819f-1bf0cb3c3820",
   "metadata": {},
   "outputs": [
    {
     "name": "stdout",
     "output_type": "stream",
     "text": [
      "Decrypted Message: world !Hello\n"
     ]
    }
   ],
   "source": [
    "# 암호화된 메시지\n",
    "encrypted_message = \"oolllleeHH!! ddllrrooww\"\n",
    "\n",
    "# 1. 문자열을 역순으로 뒤집기\n",
    "reversed_message = encrypted_message[::-1]\n",
    "\n",
    "# 2. 두 번씩 반복된 문자 제거 (짝수 인덱스만 선택)\n",
    "decrypted_message = \"\"\n",
    "for i in range(0, len(reversed_message), 2):  # 짝수 인덱스만 선택\n",
    "    decrypted_message += reversed_message[i]\n",
    "\n",
    "# 결과 출력\n",
    "print(\"Decrypted Message:\", decrypted_message)"
   ]
  },
  {
   "cell_type": "code",
   "execution_count": 34,
   "id": "b9710b97-6571-42f2-8d83-478d5b2832b5",
   "metadata": {},
   "outputs": [
    {
     "name": "stdout",
     "output_type": "stream",
     "text": [
      "encrypted_message= oolllleeHH!! ddllrrooww\n",
      "Decrypted Message: world !Hello\n"
     ]
    }
   ],
   "source": [
    "# 암호화된 메시지\n",
    "encrypted_message = \"oolllleeHH!! ddllrrooww\"\n",
    "print(\"encrypted_message=\",encrypted_message)\n",
    "# 1. 문자열을 역순으로 뒤집기\n",
    "reversed_message = encrypted_message[::-1]\n",
    "\n",
    "# 2. 역순으로 뒤집은 메시지에서 필요한 부분을 잘라서 정확한 결과 얻기\n",
    "decrypted_message = reversed_message[::2]\n",
    "\n",
    "# 결과 출력\n",
    "print(\"Decrypted Message:\", decrypted_message)"
   ]
  },
  {
   "cell_type": "code",
   "execution_count": 45,
   "id": "4f67d307-59d4-4260-a1e4-9b9487ae2f0e",
   "metadata": {},
   "outputs": [
    {
     "name": "stdout",
     "output_type": "stream",
     "text": [
      "!!oolllleeHH ddllrrooww\n",
      "--- ['!!oolllleeHH', 'ddllrrooww']\n",
      "### !!oolllleeHH ->  Hello!\n",
      "### ddllrrooww ->  world\n",
      "Hello! world\n"
     ]
    }
   ],
   "source": [
    "# 암호화된 메시지\n",
    "encrypted_message = \"!!oolllleeHH ddllrrooww\"\n",
    "print(encrypted_message)\n",
    "words = encrypted_message.split()\n",
    "print('---' , words)\n",
    "\n",
    "decrypted_message = []\n",
    "for word in words :\n",
    "    r_word = word[::-1][::2]\n",
    "    print('###',word,'-> ',r_word)\n",
    "    decrypted_message.append(r_word)\n",
    "print(' '.join(decrypted_message))"
   ]
  },
  {
   "cell_type": "code",
   "execution_count": 46,
   "id": "6c6a7f09-8c7f-4211-a1bf-4f686087b175",
   "metadata": {},
   "outputs": [
    {
     "name": "stdout",
     "output_type": "stream",
     "text": [
      "1. 사용자별 총 요청 수: {'user1': 3, 'user2': 3, 'user3': 2}\n",
      "2. 500번대 오류 발생 사용자와 횟수: {'user1': 1, 'user2': 1}\n",
      "3. '/admin' URL 접근 사용자와 횟수: {'user1': 1, 'user2': 1}\n"
     ]
    }
   ],
   "source": [
    "logs = {\n",
    "    \"user1\": [(\"/home\", 200, \"2025-01-20T10:00:00\"),\n",
    "              (\"/admin\", 500, \"2025-01-20T10:10:00\"),\n",
    "              (\"/dashboard\", 200, \"2025-01-20T10:20:00\")],\n",
    "    \"user2\": [(\"/home\", 200, \"2025-01-20T11:00:00\"),\n",
    "              (\"/admin\", 403, \"2025-01-20T11:15:00\"),\n",
    "              (\"/settings\", 500, \"2025-01-20T11:30:00\")],\n",
    "    \"user3\": [(\"/home\", 200, \"2025-01-20T12:00:00\"),\n",
    "              (\"/dashboard\", 200, \"2025-01-20T12:20:00\")]\n",
    "}\n",
    "\n",
    "# 1. 사용자별 총 요청 수 계산\n",
    "total_requests = {}\n",
    "for user, requests in logs.items():\n",
    "    total_requests[user] = len(requests)\n",
    "\n",
    "# 2. 500번대 상태 코드 발생 사용자와 횟수 계산\n",
    "error_requests = {}\n",
    "for user, requests in logs.items():\n",
    "    error_count = 0\n",
    "    for url, status, time in requests:\n",
    "        if 500 <= status < 600:\n",
    "            error_count += 1\n",
    "    # 500번대 오류가 있는 사용자만 딕셔너리에 추가\n",
    "    if error_count > 0:\n",
    "        error_requests[user] = error_count\n",
    "\n",
    "# 3. '/admin' URL 접근한 사용자와 횟수 계산\n",
    "admin_access = {}\n",
    "for user, requests in logs.items():\n",
    "    admin_count = 0\n",
    "    for url, status, time in requests:\n",
    "        if url == \"/admin\":\n",
    "            admin_count += 1\n",
    "    # '/admin'에 접근한 사용자만 딕셔너리에 추가\n",
    "    if admin_count > 0:\n",
    "        admin_access[user] = admin_count\n",
    "\n",
    "# 결과 출력\n",
    "print(\"1. 사용자별 총 요청 수:\", total_requests)\n",
    "print(\"2. 500번대 오류 발생 사용자와 횟수:\", error_requests)\n",
    "print(\"3. '/admin' URL 접근 사용자와 횟수:\", admin_access)"
   ]
  },
  {
   "cell_type": "code",
   "execution_count": null,
   "id": "5bb394d1-90e9-4616-9e92-2fa976d60d7c",
   "metadata": {},
   "outputs": [],
   "source": []
  }
 ],
 "metadata": {
  "kernelspec": {
   "display_name": "Python 3 (ipykernel)",
   "language": "python",
   "name": "python3"
  },
  "language_info": {
   "codemirror_mode": {
    "name": "ipython",
    "version": 3
   },
   "file_extension": ".py",
   "mimetype": "text/x-python",
   "name": "python",
   "nbconvert_exporter": "python",
   "pygments_lexer": "ipython3",
   "version": "3.12.7"
  }
 },
 "nbformat": 4,
 "nbformat_minor": 5
}
