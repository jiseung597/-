{
 "cells": [
  {
   "cell_type": "code",
   "execution_count": 7,
   "id": "9dd02122-f6c0-4db0-91ca-3770dc00179a",
   "metadata": {},
   "outputs": [
    {
     "name": "stdin",
     "output_type": "stream",
     "text": [
      "섭씨 온도를 입력하시오:  38\n"
     ]
    },
    {
     "name": "stdout",
     "output_type": "stream",
     "text": [
      "38.0도는 화씨로 100.40도 입니다.\n"
     ]
    },
    {
     "name": "stdin",
     "output_type": "stream",
     "text": [
      "화씨 온도를 입력하시오:  80\n"
     ]
    },
    {
     "name": "stdout",
     "output_type": "stream",
     "text": [
      "80.0도는 화씨로 26.67도 입니다.\n"
     ]
    }
   ],
   "source": [
    "def c_to_fahrenheit(celsius):\n",
    "    fahrenheit = (celsius * 9/5) + 32\n",
    "    return fahrenheit\n",
    "\n",
    "def f_to_celsius(fahrenheit):\n",
    "    celsius = (fahrenheit - 32) * 5/9\n",
    "    return celsius\n",
    "\n",
    "\n",
    "celsius = float(input(\"섭씨 온도를 입력하시오: \"))\n",
    "fahrenheit = c_to_fahrenheit(celsius)\n",
    "print(f\"{celsius}도는 화씨로 {fahrenheit:.2f}도 입니다.\")\n",
    "\n",
    "\n",
    "fahrenheit = float(input(\"화씨 온도를 입력하시오: \"))\n",
    "celsius = f_to_celsius(fahrenheit)\n",
    "print(f\"{fahrenheit}도는 화씨로 {celsius:.2f}도 입니다.\")\n"
   ]
  },
  {
   "cell_type": "code",
   "execution_count": 8,
   "id": "f665b703-3a8e-4c97-9838-cda6793f792e",
   "metadata": {},
   "outputs": [
    {
     "name": "stdout",
     "output_type": "stream",
     "text": [
      "10 + 1 -> 11\n",
      "10 + 5 -> 15\n",
      "10 * 5 -> 50\n"
     ]
    }
   ],
   "source": [
    "add1 = lambda x: x + 1\n",
    "add2 = lambda x, y: x + y\n",
    "mult2 = lambda x, y: x * y\n",
    "\n",
    "a, b = 10, 5\n",
    "print(f'{a} + {1} -> {add1(a)}')\n",
    "print(f'{a} + {b} -> {add2(a, b)}')\n",
    "print(f'{a} * {b} -> {mult2(a, b)}')"
   ]
  },
  {
   "cell_type": "code",
   "execution_count": 9,
   "id": "912ee345-eebe-4554-98a8-63f9bd1edb45",
   "metadata": {},
   "outputs": [
    {
     "name": "stdout",
     "output_type": "stream",
     "text": [
      "123,456,789\n",
      "1.234568E-03\n",
      "12.340000%\n"
     ]
    }
   ],
   "source": [
    "n = 123456789\n",
    "# , 삽입된 문자\n",
    "print(format(n, ','))\n",
    "\n",
    "n = 0.00123456789\n",
    "# 지수형\n",
    "print(format(n,'E'))\n",
    "\n",
    "n = 0.1234\n",
    "# 백분율\n",
    "print(format(n, '%'))"
   ]
  },
  {
   "cell_type": "code",
   "execution_count": 18,
   "id": "117ccd45-8b36-4410-8627-9b83b7ada552",
   "metadata": {},
   "outputs": [
    {
     "name": "stdin",
     "output_type": "stream",
     "text": [
      "첫번째 숫자 입력:  1\n",
      "두번째 숫자 입력:  3\n"
     ]
    },
    {
     "name": "stdout",
     "output_type": "stream",
     "text": [
      "1와 3의 합은 4, 곱은 3\n"
     ]
    }
   ],
   "source": [
    "def calc(a, b) :\n",
    "    return a+b, a*b\n",
    "   \n",
    "x = int(input(\"첫번째 숫자 입력: \"))\n",
    "y = int(input(\"두번째 숫자 입력: \"))\n",
    "\n",
    "s, m = calc(x, y)\n",
    "\n",
    "print(f'{x}와 {y}의 합은 {s}, 곱은 {m}')"
   ]
  },
  {
   "cell_type": "code",
   "execution_count": 24,
   "id": "8c27fe2f-877c-4a67-89a6-e1a7a81bf3df",
   "metadata": {},
   "outputs": [
    {
     "name": "stdin",
     "output_type": "stream",
     "text": [
      "숫자 열을 입력하세요 :  12 3 56 88\n"
     ]
    },
    {
     "name": "stdout",
     "output_type": "stream",
     "text": [
      "12 3 56 88 <class 'str'>\n",
      "12 <class 'str'>\n",
      "3 <class 'str'>\n",
      "56 <class 'str'>\n",
      "88 <class 'str'>\n",
      "[12, 3, 56, 88] <class 'int'>\n"
     ]
    }
   ],
   "source": [
    "data = input(\"숫자 열을 입력하세요 : \")\n",
    "print(data, type(data))\n",
    "\n",
    "my_data = []\n",
    "for item in data.split() :\n",
    "    print(item, type(item))\n",
    "    my_data.append(int(item))\n",
    "print(my_data, type(my_data[0]))"
   ]
  },
  {
   "cell_type": "code",
   "execution_count": 27,
   "id": "c3257809-ec69-4816-b9e2-dba76f68d727",
   "metadata": {},
   "outputs": [
    {
     "name": "stdout",
     "output_type": "stream",
     "text": [
      "[4, 5]\n"
     ]
    }
   ],
   "source": [
    "lst = [1, 2, 3, 4, 5, 6, 7, 8, 9, 10]\n",
    "my_lst = filter(lambda x: 3 < x < 6, lst)\n",
    "\n",
    "print(list(my_lst))"
   ]
  },
  {
   "cell_type": "code",
   "execution_count": 28,
   "id": "5700bcd8-f9ee-4015-8173-4bf9b30b399f",
   "metadata": {},
   "outputs": [
    {
     "name": "stdout",
     "output_type": "stream",
     "text": [
      "Help on built-in function abs in module builtins:\n",
      "\n",
      "abs(x, /)\n",
      "    Return the absolute value of the argument.\n",
      "\n"
     ]
    }
   ],
   "source": [
    "help(abs)"
   ]
  },
  {
   "cell_type": "code",
   "execution_count": 29,
   "id": "7398c0b7-9a3c-4e7f-8250-92453c4c6e5a",
   "metadata": {},
   "outputs": [
    {
     "data": {
      "text/plain": [
       "7"
      ]
     },
     "execution_count": 29,
     "metadata": {},
     "output_type": "execute_result"
    }
   ],
   "source": [
    "abs(-7)"
   ]
  },
  {
   "cell_type": "code",
   "execution_count": 30,
   "id": "f00aa8f9-80cd-4d40-bfaf-38db2991184e",
   "metadata": {},
   "outputs": [
    {
     "data": {
      "text/plain": [
       "243"
      ]
     },
     "execution_count": 30,
     "metadata": {},
     "output_type": "execute_result"
    }
   ],
   "source": [
    "pow(3, 5)\n"
   ]
  },
  {
   "cell_type": "code",
   "execution_count": 31,
   "id": "876f6cb1-7c79-4295-9c30-3ebe77da524d",
   "metadata": {},
   "outputs": [
    {
     "data": {
      "text/plain": [
       "1"
      ]
     },
     "execution_count": 31,
     "metadata": {},
     "output_type": "execute_result"
    }
   ],
   "source": [
    "min(1, 2, 3)"
   ]
  },
  {
   "cell_type": "code",
   "execution_count": 32,
   "id": "f9634de5-934a-4f36-91f9-384955397dfa",
   "metadata": {},
   "outputs": [
    {
     "data": {
      "text/plain": [
       "'0b10100'"
      ]
     },
     "execution_count": 32,
     "metadata": {},
     "output_type": "execute_result"
    }
   ],
   "source": [
    "bin(20)"
   ]
  },
  {
   "cell_type": "code",
   "execution_count": 34,
   "id": "ac9d194e-35a3-426a-8060-cddf9c4eb759",
   "metadata": {},
   "outputs": [
    {
     "data": {
      "text/plain": [
       "[2, 3, 54, 65]"
      ]
     },
     "execution_count": 34,
     "metadata": {},
     "output_type": "execute_result"
    }
   ],
   "source": [
    "sorted([3, 54 , 65, 2])"
   ]
  },
  {
   "cell_type": "code",
   "execution_count": 35,
   "id": "671fb6d1-2e43-4696-b3d4-5b3c663c71c4",
   "metadata": {},
   "outputs": [
    {
     "data": {
      "text/plain": [
       "True"
      ]
     },
     "execution_count": 35,
     "metadata": {},
     "output_type": "execute_result"
    }
   ],
   "source": [
    "all([3, 'py' in 'python'])"
   ]
  },
  {
   "cell_type": "code",
   "execution_count": 36,
   "id": "7ff4966d-fb39-4cfd-bd86-ddcb995531f8",
   "metadata": {},
   "outputs": [
    {
     "data": {
      "text/plain": [
       "False"
      ]
     },
     "execution_count": 36,
     "metadata": {},
     "output_type": "execute_result"
    }
   ],
   "source": [
    "all([3-3])"
   ]
  },
  {
   "cell_type": "code",
   "execution_count": 48,
   "id": "3b76b5c8-058c-4d31-b48d-ce3dcd0dbd86",
   "metadata": {},
   "outputs": [
    {
     "name": "stdin",
     "output_type": "stream",
     "text": [
      "첫번째 숫자를 입력해주세요 5\n",
      "두번째 숫자를 입력해주세요 9\n",
      "세번째 숫자를 입력해주세요 1\n"
     ]
    },
    {
     "name": "stdout",
     "output_type": "stream",
     "text": [
      "max : 9\n"
     ]
    }
   ],
   "source": [
    "a = int(input(\"첫번째 숫자를 입력해주세요\"))\n",
    "b = int(input(\"두번째 숫자를 입력해주세요\"))\n",
    "c = int(input(\"세번째 숫자를 입력해주세요\"))\n",
    "max = a if a > b else b\n",
    "max = c if c > max else max\n",
    "print(f'max : {max}')\n",
    "    \n",
    "    "
   ]
  },
  {
   "cell_type": "code",
   "execution_count": 49,
   "id": "c400a42b-571b-48ba-b41b-3dc74ec6200c",
   "metadata": {},
   "outputs": [
    {
     "name": "stdout",
     "output_type": "stream",
     "text": [
      "2 4 5 7 8 10 11 13 14 16 17 19 20 \n",
      "합은 146\n"
     ]
    }
   ],
   "source": [
    "s = 0\n",
    "for num in range(2, 21) :\n",
    "    if num % 3 == 0 :\n",
    "        continue\n",
    "    else :\n",
    "        print(num, end = ' ')\n",
    "        s = s + num\n",
    "print(f'\\n합은 {s}')"
   ]
  },
  {
   "cell_type": "code",
   "execution_count": null,
   "id": "2e413fdf-1169-4e24-a16d-e2b71a727e38",
   "metadata": {},
   "outputs": [],
   "source": []
  }
 ],
 "metadata": {
  "kernelspec": {
   "display_name": "Python 3 (ipykernel)",
   "language": "python",
   "name": "python3"
  },
  "language_info": {
   "codemirror_mode": {
    "name": "ipython",
    "version": 3
   },
   "file_extension": ".py",
   "mimetype": "text/x-python",
   "name": "python",
   "nbconvert_exporter": "python",
   "pygments_lexer": "ipython3",
   "version": "3.12.7"
  }
 },
 "nbformat": 4,
 "nbformat_minor": 5
}
