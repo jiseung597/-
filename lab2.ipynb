{
 "cells": [
  {
   "cell_type": "code",
   "execution_count": 1,
   "id": "3fdd5381-2ac2-4d28-90e0-7306232ef08d",
   "metadata": {},
   "outputs": [
    {
     "name": "stdout",
     "output_type": "stream",
     "text": [
      "hello\n"
     ]
    }
   ],
   "source": [
    "print(\"hello\");"
   ]
  },
  {
   "cell_type": "code",
   "execution_count": 1,
   "id": "65aa9680-3b18-455e-a5f7-897a565d75c8",
   "metadata": {},
   "outputs": [
    {
     "name": "stdin",
     "output_type": "stream",
     "text": [
      "URL을 입력하세요 (예 : https://www.gogle.com):  https://www.gogle.com\n"
     ]
    },
    {
     "name": "stdout",
     "output_type": "stream",
     "text": [
      "도메인 이름:  gogle.com\n"
     ]
    }
   ],
   "source": [
    "url = input(\"URL을 입력하세요 (예 : https://www.gogle.com): \")\n",
    "\n",
    "url = url.replace('http://', '')\n",
    "url = url.replace('https://', '')\n",
    "url = url.replace('www.', '')\n",
    "\n",
    "domain = url.split('/')[0]\n",
    "print(\"도메인 이름: \", domain)"
   ]
  },
  {
   "cell_type": "code",
   "execution_count": 1,
   "id": "4c6e81f9-983b-4b74-920d-32814226c8a9",
   "metadata": {},
   "outputs": [
    {
     "name": "stdin",
     "output_type": "stream",
     "text": [
      "URL을 입력하세요 (예 : https://www.gogle.com):  https://www.gogle\n"
     ]
    },
    {
     "name": "stdout",
     "output_type": "stream",
     "text": [
      "도메인 이름:  gogle\n"
     ]
    }
   ],
   "source": [
    "url = input(\"URL을 입력하세요 (예 : https://www.gogle.com): \")\n",
    "\n",
    "url = url.replace('http://', '')\n",
    "url = url.replace('https://', '')\n",
    "url = url.replace('www.', '')\n",
    "\n",
    "domain = url.split('/')[0]\n",
    "print(\"도메인 이름: \", domain)"
   ]
  },
  {
   "cell_type": "code",
   "execution_count": null,
   "id": "2e12d194-b35e-41aa-ba62-8823beed5519",
   "metadata": {},
   "outputs": [],
   "source": []
  }
 ],
 "metadata": {
  "kernelspec": {
   "display_name": "Python 3 (ipykernel)",
   "language": "python",
   "name": "python3"
  },
  "language_info": {
   "codemirror_mode": {
    "name": "ipython",
    "version": 3
   },
   "file_extension": ".py",
   "mimetype": "text/x-python",
   "name": "python",
   "nbconvert_exporter": "python",
   "pygments_lexer": "ipython3",
   "version": "3.12.7"
  }
 },
 "nbformat": 4,
 "nbformat_minor": 5
}
