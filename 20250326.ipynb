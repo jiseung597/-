{
 "cells": [
  {
   "cell_type": "code",
   "execution_count": 1,
   "id": "6856d8a3-af37-49c6-a773-555820043312",
   "metadata": {},
   "outputs": [
    {
     "name": "stdin",
     "output_type": "stream",
     "text": [
      "분자를 입력하시오 :  4\n",
      "분모를 입력하시오 :  2\n"
     ]
    },
    {
     "name": "stdout",
     "output_type": "stream",
     "text": [
      "2.0\n"
     ]
    }
   ],
   "source": [
    "p = int(input(\"분자를 입력하시오 : \")); \n",
    "q = int(input(\"분모를 입력하시오 : \"));\n",
    "s = p / q;\n",
    "print(s);\n"
   ]
  },
  {
   "cell_type": "code",
   "execution_count": 2,
   "id": "c6cdb074-535b-464d-8616-428a35868a63",
   "metadata": {},
   "outputs": [
    {
     "name": "stdout",
     "output_type": "stream",
     "text": [
      "128\n"
     ]
    }
   ],
   "source": [
    "print(2**7);"
   ]
  },
  {
   "cell_type": "code",
   "execution_count": 3,
   "id": "755f24c7-39f7-4ee4-b919-3baf5bfcd87c",
   "metadata": {},
   "outputs": [
    {
     "data": {
      "text/plain": [
       "256"
      ]
     },
     "execution_count": 3,
     "metadata": {},
     "output_type": "execute_result"
    }
   ],
   "source": [
    "2**2**3"
   ]
  },
  {
   "cell_type": "code",
   "execution_count": 4,
   "id": "3888202f-fbed-4351-8653-7416c82f9b64",
   "metadata": {},
   "outputs": [
    {
     "name": "stdout",
     "output_type": "stream",
     "text": [
      "1628.894626777442\n"
     ]
    }
   ],
   "source": [
    "a = 1000\n",
    "r = 0.05\n",
    "n = 10\n",
    "print(a * (1+r) ** n)"
   ]
  },
  {
   "cell_type": "code",
   "execution_count": 7,
   "id": "7fd6576e-16dd-4cfc-a253-e4426b9a32a1",
   "metadata": {},
   "outputs": [
    {
     "name": "stdin",
     "output_type": "stream",
     "text": [
      "화씨온도를 입력하시오 :  100\n"
     ]
    },
    {
     "name": "stdout",
     "output_type": "stream",
     "text": [
      "섭씨온도 :  37.77777777777778\n"
     ]
    }
   ],
   "source": [
    "f = int(input(\"화씨온도를 입력하시오 : \"));\n",
    "c = (f - 32) * (5 / 9);\n",
    "print(\"섭씨온도 : \" , c);"
   ]
  },
  {
   "cell_type": "code",
   "execution_count": 9,
   "id": "ff48b0a9-3460-413b-b0c9-14689c4d4030",
   "metadata": {},
   "outputs": [
    {
     "name": "stdout",
     "output_type": "stream",
     "text": [
      "300\n",
      "200\n",
      "4000\n",
      "2000.0\n",
      "1000.0\n",
      "100.0\n"
     ]
    }
   ],
   "source": [
    "num = 200;\n",
    "num += 100;\n",
    "print(num);\n",
    "num -= 100\n",
    "print(num);\n",
    "num *= 20\n",
    "print(num);\n",
    "num /= 2\n",
    "print(num);\n",
    "num //= 2\n",
    "print(num);\n",
    "num %= 300\n",
    "print(num);"
   ]
  },
  {
   "cell_type": "code",
   "execution_count": 11,
   "id": "623b025c-53d7-4a75-a8b9-d641e6e3f215",
   "metadata": {},
   "outputs": [
    {
     "name": "stdout",
     "output_type": "stream",
     "text": [
      "False\n",
      "True\n",
      "False\n",
      "True\n",
      "False\n"
     ]
    }
   ],
   "source": [
    "a, b = 100, 200;\n",
    "print(a == b);\n",
    "print(a != b);\n",
    "print(a > b);\n",
    "print(a < b);\n",
    "print(a >= b);"
   ]
  },
  {
   "cell_type": "code",
   "execution_count": 12,
   "id": "b63eea42-7d89-4ebb-9783-703e1035de56",
   "metadata": {},
   "outputs": [
    {
     "name": "stdout",
     "output_type": "stream",
     "text": [
      "False\n",
      "True\n",
      "True\n",
      "False\n",
      "False\n",
      "False\n",
      "True\n"
     ]
    }
   ],
   "source": [
    "print(10 > 20);\n",
    "print(10 < 20);\n",
    "print(bool(9));\n",
    "print(bool(0));\n",
    "print(bool(None));\n",
    "print(bool(''));\n",
    "print(bool('hello'));"
   ]
  },
  {
   "cell_type": "code",
   "execution_count": 13,
   "id": "2ba8e1f3-b36e-4e63-a8d9-665a2cd077fe",
   "metadata": {},
   "outputs": [
    {
     "name": "stdin",
     "output_type": "stream",
     "text": [
      "첫 번째 수를 입력하시오:  10\n",
      "두 번째 수를 입력하시오:  20\n",
      "세 번째 수를 입력하시오:  30\n"
     ]
    },
    {
     "name": "stdout",
     "output_type": "stream",
     "text": [
      "평균 =  20.0\n"
     ]
    }
   ],
   "source": [
    "x = int(input(\"첫 번째 수를 입력하시오: \"));\n",
    "y = int(input(\"두 번째 수를 입력하시오: \"));\n",
    "z = int(input(\"세 번째 수를 입력하시오: \"));\n",
    "\n",
    "avg = (x + y + z) / 3;\n",
    "print(\"평균 = \" , avg);"
   ]
  },
  {
   "cell_type": "code",
   "execution_count": 2,
   "id": "b26a02aa-fe82-45d4-95c6-eb9a42843ad9",
   "metadata": {},
   "outputs": [
    {
     "name": "stdout",
     "output_type": "stream",
     "text": [
      "x는 101보다 작습니다.\n"
     ]
    }
   ],
   "source": [
    "x = 100;\n",
    "if x > 101:\n",
    "    print(\"x는 101보다 큽니다.\");\n",
    "else :\n",
    "    print(\"x는 101보다 작습니다.\");"
   ]
  },
  {
   "cell_type": "code",
   "execution_count": 5,
   "id": "e9c3c442-3392-411e-9c41-72873d780e94",
   "metadata": {},
   "outputs": [
    {
     "name": "stdin",
     "output_type": "stream",
     "text": [
      "점수를 입력해 주세요. :  60\n"
     ]
    },
    {
     "name": "stdout",
     "output_type": "stream",
     "text": [
      "합격입니다.\n",
      "장학금도 수령하세요.\n"
     ]
    }
   ],
   "source": [
    "score = int(input(\"점수를 입력해 주세요. : \"));\n",
    "if score >= 60 :\n",
    "    print(\"합격입니다.\");\n",
    "    print(\"장학금도 수령하세요.\");\n",
    "else :\n",
    "    print(\"불합격입니다.\");"
   ]
  },
  {
   "cell_type": "code",
   "execution_count": 8,
   "id": "9eedf8f0-b2ae-483a-9217-91fa8dc0a8c4",
   "metadata": {},
   "outputs": [
    {
     "name": "stdin",
     "output_type": "stream",
     "text": [
      "양의 정수를 입력하시오:  10\n"
     ]
    },
    {
     "name": "stdout",
     "output_type": "stream",
     "text": [
      "짝수입니다.\n"
     ]
    }
   ],
   "source": [
    "x = int(input(\"양의 정수를 입력하시오: \"));\n",
    "if x % 2 == 0 :\n",
    "    print(\"짝수입니다.\");\n",
    "else :\n",
    "    print(\"홀수입니다.\");"
   ]
  },
  {
   "cell_type": "code",
   "execution_count": 11,
   "id": "49ebc589-11d2-4124-aed6-6a80ae2b6537",
   "metadata": {},
   "outputs": [
    {
     "name": "stdin",
     "output_type": "stream",
     "text": [
      "정수를 입력하시오:  -3\n"
     ]
    },
    {
     "name": "stdout",
     "output_type": "stream",
     "text": [
      "음수입니다.\n",
      "홀수입니다.\n"
     ]
    }
   ],
   "source": [
    "x = int(input(\"정수를 입력하시오: \"));\n",
    "if x > 0 :\n",
    "    print(\"양수입니다.\");\n",
    "    if x % 2 == 0 :\n",
    "        print(\"짝수입니다.\");\n",
    "    else :\n",
    "        print(\"홀수입니다.\");\n",
    "if x < 0 :\n",
    "    print(\"음수입니다.\");\n",
    "    if x % 2 == 0 :\n",
    "        print(\"짝수입니다.\");\n",
    "    else :\n",
    "        print(\"홀수입니다.\");"
   ]
  },
  {
   "cell_type": "code",
   "execution_count": 13,
   "id": "ecd840d4-4fda-494b-a99b-ce37763f1510",
   "metadata": {},
   "outputs": [
    {
     "name": "stdin",
     "output_type": "stream",
     "text": [
      "나이를 입력하시오:  13\n"
     ]
    },
    {
     "name": "stdout",
     "output_type": "stream",
     "text": [
      "영화관람 불가능하십니다.\n"
     ]
    }
   ],
   "source": [
    "x = int(input(\"나이를 입력하시오: \"));\n",
    "if x >= 15 :\n",
    "    print(\"영화관람 가능하십니다.\");\n",
    "else :\n",
    "    print(\"영화관람 불가능하십니다.\");"
   ]
  },
  {
   "cell_type": "code",
   "execution_count": null,
   "id": "c458b73b-fe37-46b6-8180-dcc51c3dc9ae",
   "metadata": {},
   "outputs": [],
   "source": []
  }
 ],
 "metadata": {
  "kernelspec": {
   "display_name": "Python 3 (ipykernel)",
   "language": "python",
   "name": "python3"
  },
  "language_info": {
   "codemirror_mode": {
    "name": "ipython",
    "version": 3
   },
   "file_extension": ".py",
   "mimetype": "text/x-python",
   "name": "python",
   "nbconvert_exporter": "python",
   "pygments_lexer": "ipython3",
   "version": "3.12.7"
  }
 },
 "nbformat": 4,
 "nbformat_minor": 5
}
